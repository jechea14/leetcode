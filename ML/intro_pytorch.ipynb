{
 "cells": [
  {
   "cell_type": "code",
   "execution_count": 1,
   "metadata": {},
   "outputs": [],
   "source": [
    "import torch\n",
    "import torch.nn as nn"
   ]
  },
  {
   "cell_type": "code",
   "execution_count": 4,
   "metadata": {},
   "outputs": [
    {
     "data": {
      "text/plain": [
       "tensor([[1., 1., 1., 1., 1.],\n",
       "        [1., 1., 1., 1., 1.],\n",
       "        [1., 1., 1., 1., 1.]])"
      ]
     },
     "execution_count": 4,
     "metadata": {},
     "output_type": "execute_result"
    }
   ],
   "source": [
    "# Tensor: matrix or an array, 1d tensor, 2d tensor, 3d tensor, 3x10x20 tensor, etc\n",
    "# ints or floats\n",
    "# they carry derivatives under the hood, dont need to do derivatives by hand\n",
    "\n",
    "a = torch.ones(3,5) # 5x5 tensor of all ones\n",
    "a"
   ]
  },
  {
   "cell_type": "code",
   "execution_count": 13,
   "metadata": {},
   "outputs": [
    {
     "data": {
      "text/plain": [
       "tensor([5.])"
      ]
     },
     "execution_count": 13,
     "metadata": {},
     "output_type": "execute_result"
    }
   ],
   "source": [
    "# sum() and mean()\n",
    "\n",
    "# sum(tensor, axis of dimension)\n",
    "sum = torch.sum(a, axis=0) # tensor and axis (0 or 1) of dimension. 0 = col, 1 = row\n",
    "sum"
   ]
  },
  {
   "cell_type": "code",
   "execution_count": 18,
   "metadata": {},
   "outputs": [
    {
     "name": "stdout",
     "output_type": "stream",
     "text": [
      "---------- before squeeze\n",
      "torch.Size([5, 1])\n",
      "tensor([[1.],\n",
      "        [1.],\n",
      "        [1.],\n",
      "        [1.],\n",
      "        [1.]])\n",
      "------------ After squeezing\n",
      "torch.Size([5])\n",
      "tensor([1., 1., 1., 1., 1.])\n",
      "------------unsqueeze\n",
      "torch.Size([5, 1])\n"
     ]
    }
   ],
   "source": [
    "# squeeze() and unsqueeze(), used all the time\n",
    "# unncessary dimension\n",
    "a = torch.ones(5,1)\n",
    "\n",
    "# 5,1 => 5x1\n",
    "# 5, => size 5\n",
    "# squeeze() squeezes out those any uncessary dimension\n",
    "print(\"---------- before squeeze\")\n",
    "print(a.shape)\n",
    "print(a)\n",
    "squeezed = torch.squeeze(a)\n",
    "print(\"------------ After squeezing\")\n",
    "print(squeezed.shape)\n",
    "print(squeezed)\n",
    "\n",
    "print(\"------------unsqueeze\")\n",
    "unsqueezed = torch.unsqueeze(squeezed, dim = 1) # make it 5x1\n",
    "print(unsqueezed.shape)"
   ]
  },
  {
   "cell_type": "code",
   "execution_count": null,
   "metadata": {},
   "outputs": [],
   "source": [
    "# Neural Network Models\n",
    "#pytorch defines models that are specifically nn\n",
    "# module, inhirit nn.module\n",
    "\n",
    "class MyModel:\n",
    "    # constructor (layers of nn)\n",
    "\n",
    "    # Forward Method - get_model_prediction(example_datapoint)\n",
    "    # override forward method, take in ex datapoints, bath data point x\n",
    "    # use layers of model and other funcs, returning ultimate model precition\n",
    "    pass"
   ]
  },
  {
   "cell_type": "code",
   "execution_count": null,
   "metadata": {},
   "outputs": [],
   "source": [
    "# torch.nn.Linear(in_features, out_features)\n",
    "# omplemented the pre defined architecture based on a google image\n",
    "class MyModel(nn.Module):\n",
    "    def __init__(self) -> None:\n",
    "        super().__init__()\n",
    "        self.first_layer = nn.Linear(4, 6)\n",
    "        self.second_layer = nn.Linear(6, 6)\n",
    "        self.final_layer = nn.Linear(6, 2) # predicts 2 nums\n",
    "\n",
    "    def forward(self, x):\n",
    "        # first_layer_output = self.first_layer.forward(x)\n",
    "        return self.final_layer(self.second_layer.forward(self.first_layer.forward(x)))\n",
    "    \n",
    "model = MyModel()\n",
    "\n",
    "# 1) train model for some number of iterations\n",
    "\n",
    "# 2) then use the model and get predictions\n",
    "\n",
    "example_datapoint = torch.randn(1, 4) # 1x4 tensor\n",
    "#model.forward(example_datapoint) # pass dataponit in from left to right"
   ]
  }
 ],
 "metadata": {
  "kernelspec": {
   "display_name": "Python 3",
   "language": "python",
   "name": "python3"
  },
  "language_info": {
   "codemirror_mode": {
    "name": "ipython",
    "version": 3
   },
   "file_extension": ".py",
   "mimetype": "text/x-python",
   "name": "python",
   "nbconvert_exporter": "python",
   "pygments_lexer": "ipython3",
   "version": "3.10.6"
  }
 },
 "nbformat": 4,
 "nbformat_minor": 2
}
